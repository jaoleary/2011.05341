{
 "cells": [
  {
   "cell_type": "markdown",
   "metadata": {},
   "source": [
    "# EMERGE: Constraining observation timescales of merging galaxies\n",
    "##### About:\n",
    "This notebook is intended to provide the scripts necessary to reproduce the key results shown [here](https://ui.adsabs.harvard.edu/abs/2020arXiv200102687O/abstract). I omit plots that include data and results of other works.\n",
    "\n",
    "##### Data:\n",
    "The data necessary to reproduce these results can be found [here](http://www.usm.uni-muenchen.de/emerge/data/galtrees/hdf5/). This data is produced using the code [EMERGE](http://www.usm.uni-muenchen.de/emerge/)\n",
    "\n",
    "##### Code:\n",
    "To run this notebook you will also need to install my personal library of analysis tools [galaxybox](https://github.com/jaoleary/galaxybox). If there are questions regarding the usage of these tools please consult that repository directly...or contact me.\n",
    "\n",
    "##### Discalimer:\n",
    "This notebook relies on publicly available data and codes, I cannot gurantee that updates to either of this won't result in a change to the results shown in this notebook or the associated paper. If for some reason you are unable to run this notebook or if you find some error **please** contact me."
   ]
  },
  {
   "cell_type": "markdown",
   "metadata": {
    "heading_collapsed": true
   },
   "source": [
    "# RUN THESE CELLS FIRST"
   ]
  },
  {
   "cell_type": "markdown",
   "metadata": {
    "heading_collapsed": true,
    "hidden": true
   },
   "source": [
    "## IMPORT LIBRARIES"
   ]
  },
  {
   "cell_type": "code",
   "execution_count": 11,
   "metadata": {
    "ExecuteTime": {
     "end_time": "2020-06-17T11:30:35.252271Z",
     "start_time": "2020-06-17T11:30:35.235829Z"
    },
    "hidden": true
   },
   "outputs": [],
   "source": [
    "from galaxybox_dev import sim_managers as gb\n",
    "\n",
    "# plotting\n",
    "from matplotlib import pyplot as plt\n",
    "import matplotlib.ticker as ticker\n",
    "from matplotlib.lines import Line2D\n",
    "import matplotlib.patheffects as PathEffects\n",
    "import matplotlib.patches as patches\n",
    "from matplotlib import container\n",
    "from mpl_toolkits.axes_grid1 import make_axes_locatable\n",
    "from mpl_toolkits.axes_grid1.inset_locator import inset_axes\n",
    "\n",
    "#astropy\n",
    "from astropy import cosmology as apcos\n",
    "import astropy.units as apunits\n",
    "\n",
    "# scipy\n",
    "from scipy.interpolate import interp1d\n",
    "from scipy.stats import binned_statistic\n",
    "import scipy.interpolate as interpolate\n",
    "import scipy.integrate as integrate\n",
    "\n",
    "# other\n",
    "import os\n",
    "import pandas as pd\n",
    "import numpy as np\n",
    "from multiprocessing import Pool\n",
    "from jupyterthemes import jtplot # This is not a necessary library. But im a sucker for dark themes\n",
    "from tqdm.auto import tqdm\n",
    "import h5py\n",
    "import warnings\n",
    "warnings.filterwarnings(\"ignore\")"
   ]
  },
  {
   "cell_type": "markdown",
   "metadata": {
    "heading_collapsed": true,
    "hidden": true
   },
   "source": [
    "## PLOTTING DEFAULTS"
   ]
  },
  {
   "cell_type": "code",
   "execution_count": 2,
   "metadata": {
    "ExecuteTime": {
     "end_time": "2020-06-17T10:57:57.510633Z",
     "start_time": "2020-06-17T10:57:57.492298Z"
    },
    "hidden": true
   },
   "outputs": [],
   "source": [
    "jtplot.reset()\n",
    "plt.rcParams.update({'axes.linewidth' : 2,\n",
    "                     'xtick.labelsize' : 16,\n",
    "                     'xtick.major.width' : 2,\n",
    "                     'xtick.major.size'  : 6,\n",
    "                     'xtick.minor.width'  : 1,\n",
    "                     'xtick.minor.size'  : 3,\n",
    "                     'xtick.top' : True,\n",
    "                     'xtick.direction' : 'in',\n",
    "                     'ytick.labelsize' : 16,\n",
    "                     'ytick.major.width' : 2,\n",
    "                     'ytick.major.size'  : 6,\n",
    "                     'ytick.minor.width'  : 1,\n",
    "                     'ytick.minor.size'  : 3,\n",
    "                     'ytick.right' : True,\n",
    "                     'ytick.direction' : 'in',\n",
    "                     'font.family':'serif',\n",
    "                     'mathtext.fontset': 'cm'})"
   ]
  },
  {
   "cell_type": "markdown",
   "metadata": {
    "heading_collapsed": true,
    "hidden": true
   },
   "source": [
    "## IMPORT DATA"
   ]
  },
  {
   "cell_type": "code",
   "execution_count": 3,
   "metadata": {
    "ExecuteTime": {
     "end_time": "2020-06-17T10:58:21.282737Z",
     "start_time": "2020-06-17T10:58:01.297406Z"
    },
    "hidden": true
   },
   "outputs": [
    {
     "data": {
      "application/vnd.jupyter.widget-view+json": {
       "model_id": "5210ec7dac9a49d7ba52e928ce132bd9",
       "version_major": 2,
       "version_minor": 0
      },
      "text/plain": [
       "HBox(children=(FloatProgress(value=0.0, description='Loading galaxy trees', max=8.0, style=ProgressStyle(descr…"
      ]
     },
     "metadata": {},
     "output_type": "display_data"
    },
    {
     "name": "stdout",
     "output_type": "stream",
     "text": [
      "\n"
     ]
    }
   ],
   "source": [
    "P200 = gb.Universe(param_path = '../../Programs/emerge-dev/parameterfiles/P100.param', sim_type = 'emerge', include=['trees', 'survey'])"
   ]
  },
  {
   "cell_type": "code",
   "execution_count": 4,
   "metadata": {
    "ExecuteTime": {
     "end_time": "2020-06-17T10:58:23.555005Z",
     "start_time": "2020-06-17T10:58:22.831209Z"
    },
    "hidden": true
   },
   "outputs": [],
   "source": [
    "# construct some new lightcone catalogs\n",
    "#P200.galaxy.survey.new_observation(group='GOODS-S', name='wide', m=8, n=5, min_z=0.5, max_z=3, min_mstar=9, fuzzy_bounds=True, randomize=True, seed=42)\n",
    "#P200.galaxy.survey.new_observation(group='GOODS-N', name='wide', m=8, n=5, min_z=0.5, max_z=3, min_mstar=9, fuzzy_bounds=True, randomize=True, seed=24)\n",
    "#P200.galaxy.survey.save()\n",
    "\n",
    "# load previously saved lightcone catalogs\n",
    "P200.galaxy.survey.load_group(group='GOODS-S', link_trees=True)\n",
    "P200.galaxy.survey.load_group(group='GOODS-N', link_trees=True)"
   ]
  },
  {
   "cell_type": "markdown",
   "metadata": {},
   "source": [
    "# Compute pair fractions"
   ]
  },
  {
   "cell_type": "code",
   "execution_count": 5,
   "metadata": {
    "ExecuteTime": {
     "end_time": "2020-06-17T10:59:14.664226Z",
     "start_time": "2020-06-17T10:59:14.471919Z"
    }
   },
   "outputs": [],
   "source": [
    "# first bin then setup the distance matrix for each observation\n",
    "observations = [('GOODS-S', 'wide'),\n",
    "                ('GOODS-N', 'wide')]\n",
    "for i, obs in enumerate(observations):\n",
    "    group, name = obs\n",
    "    P200.galaxy.survey.obs(group=group, name=name).set_cone_slice(bins=5)\n",
    "    P200.galaxy.survey.obs(group=group, name=name).set_distance_matrix(max_distance=0.1, comoving=False)\n"
   ]
  },
  {
   "cell_type": "code",
   "execution_count": 21,
   "metadata": {
    "ExecuteTime": {
     "end_time": "2020-06-17T12:10:01.002098Z",
     "start_time": "2020-06-17T12:09:53.618364Z"
    }
   },
   "outputs": [
    {
     "data": {
      "image/png": "[encoded data removed]",
      "text/plain": [
       "<Figure size 640x480 with 1 Axes>"
      ]
     },
     "metadata": {},
     "output_type": "display_data"
    }
   ],
   "source": [
    "fig, ax = plt.subplots()\n",
    "ax.set_yscale('log')\n",
    "ax.set_xlim(0,5)\n",
    "ax.set_ylim(0.01, 1.5)\n",
    "ax.set_ylabel('Pair fraction $f_{p}$', size=16)\n",
    "ax.set_xlabel('Redshift', size=16)\n",
    "ax.xaxis.set_minor_locator(ticker.FixedLocator(np.arange(0.25, 4.5+75, 0.25)))\n",
    "\n",
    "color = ['b','r']\n",
    "\n",
    "pairs = pd.read_hdf('./pair_counts.h5', key='P4')\n",
    "\n",
    "z=pairs['redshift']\n",
    "Np = (pairs['rp:50']-pairs['rp:5'])\n",
    "Ng = pairs['N_gal']\n",
    "fp = Np/Ng\n",
    "err = fp/np.sqrt(Np)\n",
    "ax.plot(z, fp,color='k', lw=2,label='O\\'Leary+ (2020)')\n",
    "ax.fill_between(z,fp+err,fp-err,alpha=0.25, color='k')\n",
    "\n",
    "for i, obs in enumerate(observations):\n",
    "    group, name = obs\n",
    "    bins = P200.galaxy.survey.obs(group=group, name=name).redshift_bins\n",
    "    z = (bins[:-1] + bins[1:])/2\n",
    "    pairs = P200.galaxy.survey.obs(group=group, name=name).get_pairs(r_min=0.005, r_max=0.05, min_mstar=10.3)\n",
    "    Np = np.array([len(p) for p in pairs])\n",
    "    Ng = np.array([len(P200.galaxy.survey.obs(group=group, name=name).list(slice=[i], min_mstar=10.3)) for i in range(len(Np))])\n",
    "    fp = Np/Ng\n",
    "    err = fp/np.sqrt(Np)\n",
    "    ax.errorbar(z, fp, yerr=err, marker='.', color=color[i],label=group+' (mock)')\n",
    "    ax.yaxis.set_major_formatter(ticker.FuncFormatter(lambda y,pos: ('{{:.{:1d}f}}'.format(int(np.maximum(-np.log10(y),0)))).format(y)))\n",
    "\n",
    "    plt.legend()\n",
    "plt.show()"
   ]
  },
  {
   "cell_type": "markdown",
   "metadata": {
    "heading_collapsed": true
   },
   "source": [
    "## Compute correction factor"
   ]
  },
  {
   "cell_type": "code",
   "execution_count": null,
   "metadata": {
    "hidden": true
   },
   "outputs": [],
   "source": []
  },
  {
   "cell_type": "markdown",
   "metadata": {},
   "source": [
    "## Compute observation timescales"
   ]
  },
  {
   "cell_type": "code",
   "execution_count": null,
   "metadata": {},
   "outputs": [],
   "source": []
  },
  {
   "cell_type": "markdown",
   "metadata": {},
   "source": [
    "# SCRATCH"
   ]
  },
  {
   "cell_type": "code",
   "execution_count": 24,
   "metadata": {
    "ExecuteTime": {
     "end_time": "2020-06-19T11:00:23.581994Z",
     "start_time": "2020-06-19T11:00:23.556785Z"
    }
   },
   "outputs": [
    {
     "data": {
      "text/html": [
       "<div>\n",
       "<style scoped>\n",
       "    .dataframe tbody tr th:only-of-type {\n",
       "        vertical-align: middle;\n",
       "    }\n",
       "\n",
       "    .dataframe tbody tr th {\n",
       "        vertical-align: top;\n",
       "    }\n",
       "\n",
       "    .dataframe thead th {\n",
       "        text-align: right;\n",
       "    }\n",
       "</style>\n",
       "<table border=\"1\" class=\"dataframe\">\n",
       "  <thead>\n",
       "    <tr style=\"text-align: right;\">\n",
       "      <th></th>\n",
       "      <th>Scale</th>\n",
       "      <th>Up_ID</th>\n",
       "      <th>Desc_ID</th>\n",
       "      <th>Main_ID</th>\n",
       "      <th>MMP_ID</th>\n",
       "      <th>Coprog_ID</th>\n",
       "      <th>Leaf_ID</th>\n",
       "      <th>Original_ID</th>\n",
       "      <th>Num_prog</th>\n",
       "      <th>MMP</th>\n",
       "      <th>...</th>\n",
       "      <th>X_pos</th>\n",
       "      <th>Y_pos</th>\n",
       "      <th>Z_pos</th>\n",
       "      <th>X_vel</th>\n",
       "      <th>Y_vel</th>\n",
       "      <th>Z_vel</th>\n",
       "      <th>tdf</th>\n",
       "      <th>Age</th>\n",
       "      <th>Type</th>\n",
       "      <th>Flag</th>\n",
       "    </tr>\n",
       "    <tr>\n",
       "      <th>ID</th>\n",
       "      <th></th>\n",
       "      <th></th>\n",
       "      <th></th>\n",
       "      <th></th>\n",
       "      <th></th>\n",
       "      <th></th>\n",
       "      <th></th>\n",
       "      <th></th>\n",
       "      <th></th>\n",
       "      <th></th>\n",
       "      <th></th>\n",
       "      <th></th>\n",
       "      <th></th>\n",
       "      <th></th>\n",
       "      <th></th>\n",
       "      <th></th>\n",
       "      <th></th>\n",
       "      <th></th>\n",
       "      <th></th>\n",
       "      <th></th>\n",
       "      <th></th>\n",
       "    </tr>\n",
       "  </thead>\n",
       "  <tbody>\n",
       "    <tr>\n",
       "      <th>143</th>\n",
       "      <td>1.00</td>\n",
       "      <td>11905</td>\n",
       "      <td>0</td>\n",
       "      <td>11905</td>\n",
       "      <td>144</td>\n",
       "      <td>0</td>\n",
       "      <td>229</td>\n",
       "      <td>13870185</td>\n",
       "      <td>1</td>\n",
       "      <td>1</td>\n",
       "      <td>...</td>\n",
       "      <td>1.001557</td>\n",
       "      <td>10.257502</td>\n",
       "      <td>23.660570</td>\n",
       "      <td>122.000000</td>\n",
       "      <td>-160.729996</td>\n",
       "      <td>-232.169998</td>\n",
       "      <td>763.614929</td>\n",
       "      <td>13.799319</td>\n",
       "      <td>2</td>\n",
       "      <td>0</td>\n",
       "    </tr>\n",
       "    <tr>\n",
       "      <th>144</th>\n",
       "      <td>0.99</td>\n",
       "      <td>11906</td>\n",
       "      <td>143</td>\n",
       "      <td>11906</td>\n",
       "      <td>145</td>\n",
       "      <td>0</td>\n",
       "      <td>229</td>\n",
       "      <td>13870184</td>\n",
       "      <td>1</td>\n",
       "      <td>1</td>\n",
       "      <td>...</td>\n",
       "      <td>0.989272</td>\n",
       "      <td>10.283062</td>\n",
       "      <td>23.695049</td>\n",
       "      <td>135.899994</td>\n",
       "      <td>-145.080002</td>\n",
       "      <td>-267.619995</td>\n",
       "      <td>763.614929</td>\n",
       "      <td>13.654740</td>\n",
       "      <td>2</td>\n",
       "      <td>0</td>\n",
       "    </tr>\n",
       "    <tr>\n",
       "      <th>145</th>\n",
       "      <td>0.98</td>\n",
       "      <td>11907</td>\n",
       "      <td>144</td>\n",
       "      <td>11907</td>\n",
       "      <td>146</td>\n",
       "      <td>0</td>\n",
       "      <td>229</td>\n",
       "      <td>13870183</td>\n",
       "      <td>1</td>\n",
       "      <td>1</td>\n",
       "      <td>...</td>\n",
       "      <td>0.968066</td>\n",
       "      <td>10.301411</td>\n",
       "      <td>23.743420</td>\n",
       "      <td>134.380005</td>\n",
       "      <td>-142.279999</td>\n",
       "      <td>-270.619995</td>\n",
       "      <td>763.614929</td>\n",
       "      <td>13.509388</td>\n",
       "      <td>2</td>\n",
       "      <td>0</td>\n",
       "    </tr>\n",
       "    <tr>\n",
       "      <th>146</th>\n",
       "      <td>0.97</td>\n",
       "      <td>11908</td>\n",
       "      <td>145</td>\n",
       "      <td>146</td>\n",
       "      <td>147</td>\n",
       "      <td>0</td>\n",
       "      <td>229</td>\n",
       "      <td>13304730</td>\n",
       "      <td>1</td>\n",
       "      <td>1</td>\n",
       "      <td>...</td>\n",
       "      <td>0.774576</td>\n",
       "      <td>10.098363</td>\n",
       "      <td>24.075182</td>\n",
       "      <td>-120.019997</td>\n",
       "      <td>518.109985</td>\n",
       "      <td>237.589996</td>\n",
       "      <td>13.363264</td>\n",
       "      <td>13.363264</td>\n",
       "      <td>1</td>\n",
       "      <td>0</td>\n",
       "    </tr>\n",
       "    <tr>\n",
       "      <th>147</th>\n",
       "      <td>0.96</td>\n",
       "      <td>11909</td>\n",
       "      <td>146</td>\n",
       "      <td>147</td>\n",
       "      <td>148</td>\n",
       "      <td>0</td>\n",
       "      <td>229</td>\n",
       "      <td>13166735</td>\n",
       "      <td>1</td>\n",
       "      <td>1</td>\n",
       "      <td>...</td>\n",
       "      <td>0.792980</td>\n",
       "      <td>10.036529</td>\n",
       "      <td>24.035158</td>\n",
       "      <td>-107.800003</td>\n",
       "      <td>350.399994</td>\n",
       "      <td>276.730011</td>\n",
       "      <td>13.216373</td>\n",
       "      <td>13.216373</td>\n",
       "      <td>1</td>\n",
       "      <td>0</td>\n",
       "    </tr>\n",
       "  </tbody>\n",
       "</table>\n",
       "<p>5 rows × 33 columns</p>\n",
       "</div>"
      ],
      "text/plain": [
       "     Scale  Up_ID  Desc_ID  Main_ID  MMP_ID  Coprog_ID  Leaf_ID  Original_ID  \\\n",
       "ID                                                                             \n",
       "143   1.00  11905        0    11905     144          0      229     13870185   \n",
       "144   0.99  11906      143    11906     145          0      229     13870184   \n",
       "145   0.98  11907      144    11907     146          0      229     13870183   \n",
       "146   0.97  11908      145      146     147          0      229     13304730   \n",
       "147   0.96  11909      146      147     148          0      229     13166735   \n",
       "\n",
       "     Num_prog  MMP  ...     X_pos      Y_pos      Z_pos       X_vel  \\\n",
       "ID                  ...                                               \n",
       "143         1    1  ...  1.001557  10.257502  23.660570  122.000000   \n",
       "144         1    1  ...  0.989272  10.283062  23.695049  135.899994   \n",
       "145         1    1  ...  0.968066  10.301411  23.743420  134.380005   \n",
       "146         1    1  ...  0.774576  10.098363  24.075182 -120.019997   \n",
       "147         1    1  ...  0.792980  10.036529  24.035158 -107.800003   \n",
       "\n",
       "          Y_vel       Z_vel         tdf        Age  Type  Flag  \n",
       "ID                                                              \n",
       "143 -160.729996 -232.169998  763.614929  13.799319     2     0  \n",
       "144 -145.080002 -267.619995  763.614929  13.654740     2     0  \n",
       "145 -142.279999 -270.619995  763.614929  13.509388     2     0  \n",
       "146  518.109985  237.589996   13.363264  13.363264     1     0  \n",
       "147  350.399994  276.730011   13.216373  13.216373     1     0  \n",
       "\n",
       "[5 rows x 33 columns]"
      ]
     },
     "execution_count": 24,
     "metadata": {},
     "output_type": "execute_result"
    }
   ],
   "source": [
    "P200.galaxy.trees.head()"
   ]
  },
  {
   "cell_type": "code",
   "execution_count": null,
   "metadata": {},
   "outputs": [],
   "source": []
  }
 ],
 "metadata": {
  "kernelspec": {
   "display_name": "Python 3",
   "language": "python",
   "name": "python3"
  },
  "language_info": {
   "codemirror_mode": {
    "name": "ipython",
    "version": 3
   },
   "file_extension": ".py",
   "mimetype": "text/x-python",
   "name": "python",
   "nbconvert_exporter": "python",
   "pygments_lexer": "ipython3",
   "version": "3.7.4"
  },
  "toc": {
   "base_numbering": 1,
   "nav_menu": {},
   "number_sections": false,
   "sideBar": true,
   "skip_h1_title": false,
   "title_cell": "Table of Contents",
   "title_sidebar": "Contents",
   "toc_cell": false,
   "toc_position": {
    "height": "1031.25px",
    "left": "708px",
    "top": "179.469px",
    "width": "480px"
   },
   "toc_section_display": true,
   "toc_window_display": true
  }
 },
 "nbformat": 4,
 "nbformat_minor": 4
}
